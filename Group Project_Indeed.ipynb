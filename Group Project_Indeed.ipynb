{
 "cells": [
  {
   "cell_type": "code",
   "execution_count": 742,
   "metadata": {},
   "outputs": [],
   "source": [
    "#Indeed job pages - web Scrapping\n",
    "import requests \n",
    "import pandas as pd\n",
    "from bs4 import BeautifulSoup\n",
    "from pandas import DataFrame as df  \n",
    "r = requests.get ('https://ca.indeed.com/cmp/Aerialytic/jobs/Data-Analyst-Intern-1f695d5b53ecd772?q=data+science&vjs=3')\n",
    "# print (r.text[0:500])\n",
    "soup = BeautifulSoup (r.text, 'html.parser')\n",
    "\n",
    "# results = soup.find_all( attrs = {'class' : 'jobsearch-JobComponent icl-u-xs-mt--sm'})\n",
    "# print (results)\n",
    "\n",
    "General = soup.find( attrs = {'class' : 'jobsearch-JobComponent-description icl-u-xs-mt--md'})\n",
    "# print (General.contents)"
   ]
  },
  {
   "cell_type": "code",
   "execution_count": 743,
   "metadata": {},
   "outputs": [],
   "source": [
    "#Extracting the Job Title\n",
    "Position = soup.find( attrs = {'class' : 'icl-u-xs-mb--xs icl-u-xs-mt--none jobsearch-JobInfoHeader-title'})\n",
    "# print('Position: ', Position.contents) "
   ]
  },
  {
   "cell_type": "code",
   "execution_count": 744,
   "metadata": {},
   "outputs": [],
   "source": [
    "#Extracting the Company Name\n",
    "Company_Name = soup.find( attrs = {'class' : 'icl-u-lg-mr--sm icl-u-xs-mr--xs'})\n",
    "# print ('Company Name:' , Company_Name.contents)"
   ]
  },
  {
   "cell_type": "code",
   "execution_count": 745,
   "metadata": {},
   "outputs": [],
   "source": [
    "#Extracting the Job Type\n",
    "def Job_Type():\n",
    "    try:\n",
    "        Job_Type = soup.find( attrs = {'class' : 'jobsearch-JobMetadataHeader-item icl-u-xs-mt--xs'})\n",
    "        return  Job_Type.contents\n",
    "    except:\n",
    "        return  print ('Not Informed')\n",
    "\n",
    "# Job_Type()"
   ]
  },
  {
   "cell_type": "code",
   "execution_count": 750,
   "metadata": {},
   "outputs": [],
   "source": [
    "#Extracting the URL and Job ID\n",
    "Job_ID_1 = soup.find_all(\"meta\")[5]\n",
    "Job_URL = Job_ID_1[\"content\"]\n",
    "# print (Job_URL)\n",
    "Start = Job_URL.find('jk=')+3\n",
    "# print (Start)\n",
    "Job_Id = Job_URL[Start:]\n",
    "\n",
    "# print (Job_Id)"
   ]
  },
  {
   "cell_type": "code",
   "execution_count": 747,
   "metadata": {},
   "outputs": [],
   "source": [
    "#Extracting the Salary\n",
    "def Salary():\n",
    "    try:\n",
    "        Salary = soup.find( attrs = {'class' : 'jobsearch-JobMetadataHeader-item'})\n",
    "        return  Salary.contents\n",
    "    except:\n",
    "        return  print ('Not Informed')\n",
    "\n",
    "# Salary()"
   ]
  },
  {
   "cell_type": "code",
   "execution_count": 748,
   "metadata": {},
   "outputs": [],
   "source": [
    "#Extracting the City and Province\n",
    "Title_count = len(Position.text)\n",
    "Location_2 = soup.find( 'title')\n",
    "\n",
    "Final = Location_2.text.find('Indeed')\n",
    "City = Location_2.text[Title_count+3: Final-3].split(',')[0]\n",
    "Province = Location_2.text[Title_count+3: Final-3].split(', ')[1]\n",
    "\n",
    "# City , Province"
   ]
  },
  {
   "cell_type": "code",
   "execution_count": 749,
   "metadata": {},
   "outputs": [
    {
     "data": {
      "text/html": [
       "<div>\n",
       "<style scoped>\n",
       "    .dataframe tbody tr th:only-of-type {\n",
       "        vertical-align: middle;\n",
       "    }\n",
       "\n",
       "    .dataframe tbody tr th {\n",
       "        vertical-align: top;\n",
       "    }\n",
       "\n",
       "    .dataframe thead th {\n",
       "        text-align: right;\n",
       "    }\n",
       "</style>\n",
       "<table border=\"1\" class=\"dataframe\">\n",
       "  <thead>\n",
       "    <tr style=\"text-align: right;\">\n",
       "      <th></th>\n",
       "      <th>Job ID</th>\n",
       "      <th>Job Title</th>\n",
       "      <th>Company Name</th>\n",
       "      <th>Job Type</th>\n",
       "      <th>Salary</th>\n",
       "      <th>City</th>\n",
       "      <th>Province</th>\n",
       "      <th>Job Requirements</th>\n",
       "      <th>Job URL</th>\n",
       "    </tr>\n",
       "  </thead>\n",
       "  <tbody>\n",
       "    <tr>\n",
       "      <th>0</th>\n",
       "      <td>1f695d5b53ecd772</td>\n",
       "      <td>Data Analyst Intern (6 months with opportunity...</td>\n",
       "      <td>Aerialytic</td>\n",
       "      <td>Temporary, Internship</td>\n",
       "      <td>$45,000 - $50,000 a year</td>\n",
       "      <td>Toronto</td>\n",
       "      <td>ON</td>\n",
       "      <td>$45,000 - $50,000 a yearTemporary, InternshipA...</td>\n",
       "      <td>http://ca.indeed.com/viewjob?from=appsharedroi...</td>\n",
       "    </tr>\n",
       "  </tbody>\n",
       "</table>\n",
       "</div>"
      ],
      "text/plain": [
       "             Job ID                                          Job Title  \\\n",
       "0  1f695d5b53ecd772  Data Analyst Intern (6 months with opportunity...   \n",
       "\n",
       "  Company Name               Job Type                    Salary     City  \\\n",
       "0   Aerialytic  Temporary, Internship  $45,000 - $50,000 a year  Toronto   \n",
       "\n",
       "  Province                                   Job Requirements  \\\n",
       "0       ON  $45,000 - $50,000 a yearTemporary, InternshipA...   \n",
       "\n",
       "                                             Job URL  \n",
       "0  http://ca.indeed.com/viewjob?from=appsharedroi...  "
      ]
     },
     "execution_count": 749,
     "metadata": {},
     "output_type": "execute_result"
    }
   ],
   "source": [
    "DataFrame = df ({'Job ID':Job_Id ,'Job Title':Position.contents , 'Company Name': Company_Name.contents , 'Job Type': Job_Type() ,'Salary': Salary() ,  'City':City , 'Province' : Province , 'Job Requirements' : General.text , 'Job URL' : Job_URL})\n",
    "DataFrame"
   ]
  },
  {
   "cell_type": "code",
   "execution_count": null,
   "metadata": {},
   "outputs": [],
   "source": []
  },
  {
   "cell_type": "code",
   "execution_count": null,
   "metadata": {},
   "outputs": [],
   "source": []
  },
  {
   "cell_type": "code",
   "execution_count": null,
   "metadata": {},
   "outputs": [],
   "source": []
  },
  {
   "cell_type": "code",
   "execution_count": null,
   "metadata": {},
   "outputs": [],
   "source": []
  },
  {
   "cell_type": "code",
   "execution_count": null,
   "metadata": {},
   "outputs": [],
   "source": []
  },
  {
   "cell_type": "code",
   "execution_count": null,
   "metadata": {},
   "outputs": [],
   "source": []
  },
  {
   "cell_type": "code",
   "execution_count": null,
   "metadata": {},
   "outputs": [],
   "source": []
  },
  {
   "cell_type": "code",
   "execution_count": null,
   "metadata": {},
   "outputs": [],
   "source": []
  }
 ],
 "metadata": {
  "kernelspec": {
   "display_name": "Python 3",
   "language": "python",
   "name": "python3"
  },
  "language_info": {
   "codemirror_mode": {
    "name": "ipython",
    "version": 3
   },
   "file_extension": ".py",
   "mimetype": "text/x-python",
   "name": "python",
   "nbconvert_exporter": "python",
   "pygments_lexer": "ipython3",
   "version": "3.6.5"
  }
 },
 "nbformat": 4,
 "nbformat_minor": 2
}
