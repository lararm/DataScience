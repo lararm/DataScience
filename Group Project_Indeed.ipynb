{
 "cells": [
  {
   "cell_type": "code",
   "execution_count": 602,
   "metadata": {},
   "outputs": [],
   "source": [
    "#Indeed job pages - web Scrapping\n",
    "import requests \n",
    "import pandas as pd\n",
    "from bs4 import BeautifulSoup\n",
    "from pandas import DataFrame as df  \n",
    "r = requests.get ('https://ca.indeed.com/viewjob?jk=e97d458f052cb90f&tk=1crm2lkh50ivn000&from=serp&alid=3&advn=3874611328373177&sjdu=teYnAu8OgCGxABCwWD3OBGSvNPsXXaEnWLrUq8268_RhIqvVvGjMXhXFCg0MmIE1bctsDYz-VVZW_r1qWgL2iWFpBhFY7AjQa2DO-duq9I9J-G1oRVlQ07BncB86de6z0xHeEoQg620F3yNRVgDsxzmA7nqey_AWMDSSRFGkqOfCa1D_taWv3tyrBa5y_6cfHkABgm-8alCtmJ0y2OJFGy-gfsIAUirp2CZPLvb8eSLCx5VUBAM8jsfyop55x-Zu973OFryEIOPLlqAWFawdUTdFh7bqhUhdYMe8yssQvZ9tmgggydGDXwGBK-56DNm9OUCSVJgv-VxQj3zH5N_C1A')\n",
    "# print (r.text[0:500])\n",
    "soup = BeautifulSoup (r.text, 'html.parser')\n",
    "\n",
    "# results = soup.find_all( attrs = {'class' : 'jobsearch-JobComponent icl-u-xs-mt--sm'})\n",
    "# print (results)\n",
    "\n",
    "General = soup.find( attrs = {'class' : 'jobsearch-JobComponent-description icl-u-xs-mt--md'})\n",
    "# print (General.contents)"
   ]
  },
  {
   "cell_type": "code",
   "execution_count": 603,
   "metadata": {},
   "outputs": [
    {
     "name": "stdout",
     "output_type": "stream",
     "text": [
      "Position:  ['Data Analyst']\n"
     ]
    }
   ],
   "source": [
    "for i in General:\n",
    "    Position = soup.find( attrs = {'class' : 'icl-u-xs-mb--xs icl-u-xs-mt--none jobsearch-JobInfoHeader-title'})\n",
    "\n",
    "print('Position: ', Position.contents) "
   ]
  },
  {
   "cell_type": "code",
   "execution_count": 604,
   "metadata": {},
   "outputs": [
    {
     "name": "stdout",
     "output_type": "stream",
     "text": [
      "Company Name: ['Cox Automotive']\n"
     ]
    }
   ],
   "source": [
    "for i in General:\n",
    "    Company_Name = soup.find( attrs = {'class' : 'icl-u-lg-mr--sm icl-u-xs-mr--xs'})\n",
    "\n",
    "print ('Company Name:' , Company_Name.contents)"
   ]
  },
  {
   "cell_type": "code",
   "execution_count": 605,
   "metadata": {},
   "outputs": [
    {
     "name": "stdout",
     "output_type": "stream",
     "text": [
      "Not Informed\n"
     ]
    }
   ],
   "source": [
    "def Salary():\n",
    "    try:\n",
    "        Salary = soup.find( attrs = {'class' : 'jobsearch-JobMetadataHeader-item'})\n",
    "        return  Salary.contents\n",
    "    except:\n",
    "        return  print ('Not Informed')\n",
    "\n",
    "Salary()"
   ]
  },
  {
   "cell_type": "code",
   "execution_count": 606,
   "metadata": {},
   "outputs": [
    {
     "data": {
      "text/plain": [
       "('Mississauga', ' ON')"
      ]
     },
     "execution_count": 606,
     "metadata": {},
     "output_type": "execute_result"
    }
   ],
   "source": [
    "Location_2 = soup.find( 'title')\n",
    "Inicial = Location_2.text.find('-')\n",
    "Final = Location_2.text.find('Indeed')\n",
    "City = Location_2.text[Inicial+2: Final-3].split(',')[0]\n",
    "Province = Location_2.text[Inicial+2: Final-3].split(',')[1]\n",
    "\n",
    "City , Province"
   ]
  },
  {
   "cell_type": "code",
   "execution_count": 607,
   "metadata": {},
   "outputs": [
    {
     "name": "stdout",
     "output_type": "stream",
     "text": [
      "Not Informed\n"
     ]
    },
    {
     "data": {
      "text/html": [
       "<div>\n",
       "<style scoped>\n",
       "    .dataframe tbody tr th:only-of-type {\n",
       "        vertical-align: middle;\n",
       "    }\n",
       "\n",
       "    .dataframe tbody tr th {\n",
       "        vertical-align: top;\n",
       "    }\n",
       "\n",
       "    .dataframe thead th {\n",
       "        text-align: right;\n",
       "    }\n",
       "</style>\n",
       "<table border=\"1\" class=\"dataframe\">\n",
       "  <thead>\n",
       "    <tr style=\"text-align: right;\">\n",
       "      <th></th>\n",
       "      <th>Job Title</th>\n",
       "      <th>Company Name</th>\n",
       "      <th>Salary</th>\n",
       "      <th>City</th>\n",
       "      <th>Province</th>\n",
       "      <th>Job Requirements</th>\n",
       "    </tr>\n",
       "  </thead>\n",
       "  <tbody>\n",
       "    <tr>\n",
       "      <th>0</th>\n",
       "      <td>Data Analyst</td>\n",
       "      <td>Cox Automotive</td>\n",
       "      <td>None</td>\n",
       "      <td>Mississauga</td>\n",
       "      <td>ON</td>\n",
       "      <td>Description\\n\\nDealetrack, a business of Cox A...</td>\n",
       "    </tr>\n",
       "  </tbody>\n",
       "</table>\n",
       "</div>"
      ],
      "text/plain": [
       "      Job Title    Company Name Salary         City Province  \\\n",
       "0  Data Analyst  Cox Automotive   None  Mississauga       ON   \n",
       "\n",
       "                                    Job Requirements  \n",
       "0  Description\\n\\nDealetrack, a business of Cox A...  "
      ]
     },
     "execution_count": 607,
     "metadata": {},
     "output_type": "execute_result"
    }
   ],
   "source": [
    "DataFrame = df ({'Job Title':Position.contents , 'Company Name': Company_Name.contents , 'Salary': Salary() ,  'City':City , 'Province' : Province , 'Job Requirements' : General.text})\n",
    "DataFrame"
   ]
  },
  {
   "cell_type": "code",
   "execution_count": 608,
   "metadata": {},
   "outputs": [],
   "source": [
    "# General = soup.find( attrs = {'class' : 'jobsearch-JobComponent-description icl-u-xs-mt--md'})\n",
    "\n",
    "# print (General.contents)"
   ]
  },
  {
   "cell_type": "code",
   "execution_count": null,
   "metadata": {},
   "outputs": [],
   "source": []
  },
  {
   "cell_type": "code",
   "execution_count": null,
   "metadata": {},
   "outputs": [],
   "source": []
  },
  {
   "cell_type": "code",
   "execution_count": null,
   "metadata": {},
   "outputs": [],
   "source": []
  },
  {
   "cell_type": "code",
   "execution_count": null,
   "metadata": {},
   "outputs": [],
   "source": []
  },
  {
   "cell_type": "code",
   "execution_count": null,
   "metadata": {},
   "outputs": [],
   "source": []
  }
 ],
 "metadata": {
  "kernelspec": {
   "display_name": "Python 3",
   "language": "python",
   "name": "python3"
  },
  "language_info": {
   "codemirror_mode": {
    "name": "ipython",
    "version": 3
   },
   "file_extension": ".py",
   "mimetype": "text/x-python",
   "name": "python",
   "nbconvert_exporter": "python",
   "pygments_lexer": "ipython3",
   "version": "3.6.5"
  }
 },
 "nbformat": 4,
 "nbformat_minor": 2
}
