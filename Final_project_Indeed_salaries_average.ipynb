{
 "cells": [
  {
   "cell_type": "code",
   "execution_count": 114,
   "metadata": {},
   "outputs": [],
   "source": [
    "import requests \n",
    "import pandas as pd\n",
    "import numpy as np \n",
    "from bs4 import BeautifulSoup\n",
    "from pandas import DataFrame as df  "
   ]
  },
  {
   "cell_type": "code",
   "execution_count": 122,
   "metadata": {},
   "outputs": [],
   "source": [
    "def find_avg_salary(URL_avg):\n",
    "    r = requests.get (URL_avg)\n",
    "    \n",
    "    #get salary value\n",
    "    soup = BeautifulSoup (r.text, 'html.parser')\n",
    "    avg_salary = soup.find_all('div', attrs = { 'class' : \"cmp-sal-summary cmp-float-left\"})\n",
    "    #print(avg_salary)\n",
    "    avg_salary = avg_salary[0].find('div', attrs={'class': 'cmp-sal-salary'}).text.split()\n",
    "    \n",
    "    #get time and multiply value accordingly\n",
    "    avg_time = avg_salary[2].lower()\n",
    "    avg_value = float(avg_salary[0].replace(\"$\",\"\").replace(',', ''))\n",
    "    if(avg_time == \"year\"):\n",
    "        return avg_value\n",
    "    if(avg_time == \"month\"):\n",
    "        return avg_value*12\n",
    "    if(avg_time == \"week\"):\n",
    "        return avg_value*4*12\n"
   ]
  },
  {
   "cell_type": "code",
   "execution_count": 123,
   "metadata": {},
   "outputs": [],
   "source": [
    "#Get Canada's average salary\n",
    "URL_avg = \"https://ca.indeed.com/salaries/Data-Scientist-Salaries\"\n",
    "avg_canada = find_avg_salary(URL_avg)"
   ]
  },
  {
   "cell_type": "code",
   "execution_count": 127,
   "metadata": {},
   "outputs": [
    {
     "name": "stdout",
     "output_type": "stream",
     "text": [
      "Ontario             108595.0\n",
      "British-Columbia     86430.0\n",
      "Alberta              67517.0\n",
      "Québec-Province      79473.0\n",
      "Saskatchewan         89088.0\n",
      "Canada               97908.0\n",
      "dtype: float64\n"
     ]
    },
    {
     "data": {
      "image/png": "[encoded data removed]",
      "text/plain": [
       "<Figure size 720x504 with 1 Axes>"
      ]
     },
     "metadata": {},
     "output_type": "display_data"
    }
   ],
   "source": [
    "#Get average salary by province:\n",
    "list_provinces = [\"Ontario\", \"British-Columbia\" ,\"Alberta\", \"Québec-Province\", \"Saskatchewan\"]\n",
    "list_salaries = []\n",
    "for province in list_provinces:\n",
    "    url_province = \"https://ca.indeed.com/salaries/Data-Scientist-Salaries,-\" + province\n",
    "    avg_salary = find_avg_salary(url_province)\n",
    "    list_salaries.append(avg_salary)\n",
    "\n",
    "list_provinces.append(\"Canada\")\n",
    "list_salaries.append(avg_canada)\n",
    "provinces_salaries = pd.Series(list_salaries, index = list_provinces)\n",
    "provinces_salaries.plot(kind='bar', stacked=False, rot = 0, figsize=(10, 7)).set_xlabel(\"Average Annual Salary\") ;\n",
    "print(provinces_salaries)    \n"
   ]
  },
  {
   "cell_type": "code",
   "execution_count": null,
   "metadata": {},
   "outputs": [],
   "source": []
  }
 ],
 "metadata": {
  "kernelspec": {
   "display_name": "Python 3",
   "language": "python",
   "name": "python3"
  },
  "language_info": {
   "codemirror_mode": {
    "name": "ipython",
    "version": 3
   },
   "file_extension": ".py",
   "mimetype": "text/x-python",
   "name": "python",
   "nbconvert_exporter": "python",
   "pygments_lexer": "ipython3",
   "version": "3.6.5"
  }
 },
 "nbformat": 4,
 "nbformat_minor": 2
}
