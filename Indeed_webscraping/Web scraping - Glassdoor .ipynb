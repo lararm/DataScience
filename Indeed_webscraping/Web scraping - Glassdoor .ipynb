{
 "cells": [
  {
   "cell_type": "code",
   "execution_count": 107,
   "metadata": {},
   "outputs": [],
   "source": [
    "import urllib\n",
    "import requests\n",
    "from requests import get\n",
    "import bs4\n",
    "from bs4 import BeautifulSoup \n",
    "import pandas as pd \n",
    "import re \n",
    "import csv\n",
    "from datetime import datetime \n",
    "from bs4 import BeautifulSoup"
   ]
  },
  {
   "cell_type": "code",
   "execution_count": 108,
   "metadata": {},
   "outputs": [],
   "source": [
    "#<html lang =\"en\" xmlns:og ='http://opengraph.org/schema/' class =\"flex\">$0\n",
    "#div class = \"jobDescriptionContent desc\""
   ]
  },
  {
   "cell_type": "code",
   "execution_count": 109,
   "metadata": {},
   "outputs": [],
   "source": [
    "#class = jobDetailsInfroWrap"
   ]
  },
  {
   "cell_type": "code",
   "execution_count": 110,
   "metadata": {
    "scrolled": true
   },
   "outputs": [],
   "source": [
    "for i in range(0,1):\n",
    "    page = requests.get(\"https://www.glassdoor.ca/Job/data-science-jobs-%s\"%i)\n",
    "    soup = BeautifulSoup(page.content, 'html.parser')\n",
    "    data = soup.find_all(\"div\", {\"xmlns:og\":\"http://opengraph.org/schema/\"})\n",
    "    jobDesc =[]\n",
    "    \n",
    "    for item in data:\n",
    "        try:\n",
    "            jobDesc =item.find(class_=\"jobDesc\").get_text()\n",
    "            str (jobDesc + \",\")\n",
    "        except:\n",
    "            pass\n",
    "            "
   ]
  },
  {
   "cell_type": "code",
   "execution_count": null,
   "metadata": {},
   "outputs": [],
   "source": []
  }
 ],
 "metadata": {
  "kernelspec": {
   "display_name": "Python 3",
   "language": "python",
   "name": "python3"
  },
  "language_info": {
   "codemirror_mode": {
    "name": "ipython",
    "version": 3
   },
   "file_extension": ".py",
   "mimetype": "text/x-python",
   "name": "python",
   "nbconvert_exporter": "python",
   "pygments_lexer": "ipython3",
   "version": "3.6.5"
  }
 },
 "nbformat": 4,
 "nbformat_minor": 2
}
