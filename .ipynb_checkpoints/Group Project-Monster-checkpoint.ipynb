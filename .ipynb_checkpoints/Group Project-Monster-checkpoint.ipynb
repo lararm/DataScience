{
 "cells": [
  {
   "cell_type": "code",
   "execution_count": 5,
   "metadata": {},
   "outputs": [],
   "source": [
    "# Monster job pages - web Scrapping\n",
    "import requests \n",
    "from bs4 import BeautifulSoup\n",
    "r = requests.get ('https://job-openings.monster.ca/data-scientist-toronto-ca-aimia/31/08c6a549-7872-47bb-a10b-ae403a3446b7')\n",
    "\n",
    "soup = BeautifulSoup (r.text, 'html.parser')\n",
    "# print (r.text)\n",
    "\n",
    "# General = soup.find(attrs = {'class' : \"mux-job-summary\"})\n",
    "# print (General)\n"
   ]
  },
  {
   "cell_type": "code",
   "execution_count": 2,
   "metadata": {},
   "outputs": [],
   "source": [
    "# header = soup.find_all ('dl' , attrs = {'class': 'header'})\n",
    "\n",
    "# second_result = header [2]\n",
    "# print (second_result)\n"
   ]
  },
  {
   "cell_type": "code",
   "execution_count": 3,
   "metadata": {},
   "outputs": [
    {
     "name": "stdout",
     "output_type": "stream",
     "text": [
      "('Location', 'Toronto')\n",
      "('Posted', '+30 Days ago')\n",
      "('Reference code', 'R604038')\n",
      "[]\n"
     ]
    }
   ],
   "source": [
    "header = soup.find_all ('dl' , attrs = {'class': 'header'})\n",
    "summary = []\n",
    "\n",
    "for i in header:\n",
    "    Key = i.find ('dt' , attrs = {'class': 'key'}).text\n",
    "    Value = i.find ('dd' , attrs = {'class': 'value'}).text\n",
    "    print((Key , Value))\n",
    "    \n",
    "print (summary)"
   ]
  },
  {
   "cell_type": "code",
   "execution_count": null,
   "metadata": {},
   "outputs": [],
   "source": []
  },
  {
   "cell_type": "code",
   "execution_count": 150,
   "metadata": {},
   "outputs": [
    {
     "name": "stdout",
     "output_type": "stream",
     "text": [
      "Position: Data Scientist found on AIMIA\n"
     ]
    }
   ],
   "source": [
    "results = soup.find('h1' , attrs = {'class' : 'title'}).text\n",
    "print ('Position:' , results) "
   ]
  },
  {
   "cell_type": "code",
   "execution_count": 151,
   "metadata": {},
   "outputs": [
    {
     "name": "stdout",
     "output_type": "stream",
     "text": [
      "Location: Toronto\n"
     ]
    }
   ],
   "source": [
    "results = soup.find('h2' , attrs = {'class' : 'subtitle'}).text\n",
    "print ('Location:' , results) "
   ]
  },
  {
   "cell_type": "code",
   "execution_count": 152,
   "metadata": {},
   "outputs": [
    {
     "name": "stdout",
     "output_type": "stream",
     "text": [
      "\n",
      "The opportunityThe Data Scientist is responsible for the analytical design and implementation of Data Science solutions to enable new product development and data asset creation. Working closely with product owners, designers and strategists, the Data Scientist is responsible for identifying and gathering business use cases that require Data Science development, for providing adequate Data Science solutions to enable those use cases, and for measuring the business value of the solutions delivered.Ideally, the individual in this role is a technical expert with hands-on experience in machine learning, A/B testing and statistics, who enjoys working in cross-functional teams, and focusses on business impact.If you feel you are a match, we have an exciting job for you!What does it entail? Specifically, the Data Scientist will focus on these critical areas:Design the analytical framework for A/B tests and required statistical analysis to enable new product development and/or enhancements of existing productsDefine appropriate methodological approaches for machine learning developmentLead the development of machine learning models and advanced data analysis – either in a hands-on capacity or through other resourcesDesign and lead the implementation of the Data Science measurement framework, to enable the quantification of the business value of Data ScienceProvide statistical and methodological guidance to colleaguesCommunicate and collaborate daily with a cross-functional team comprising of product designers, developers, strategists, data analysts and data engineersCreate various visualizations to facilitate “Story-telling” using dataWhat’s required to succeed?Comfortable working in a start-up like setting where fast-fail is highly valued, level of uncertainty is high and requirements are not all defined in advanceExpert knowledge and past experience of statistics and mathematics applied to businessAbility to design statistical methodologies and analytical frameworks, independentlyGood communication with peers and end users, to understand and translate the business requirements into Data Science recommendationsStrong coding and data visualization skills (e.g. SQL, Python, R, D3)Strong problem solving skills, proactive in looking for solutions and researching new techniquesExcited by this opportunity? We invite you to apply and start the conversation with us. \n"
     ]
    }
   ],
   "source": [
    "General = soup.find(attrs = {'class' : 'details-content'}).text\n",
    "print (General)"
   ]
  },
  {
   "cell_type": "code",
   "execution_count": 4,
   "metadata": {},
   "outputs": [
    {
     "ename": "NameError",
     "evalue": "name 'General' is not defined",
     "output_type": "error",
     "traceback": [
      "\u001b[1;31m---------------------------------------------------------------------------\u001b[0m",
      "\u001b[1;31mNameError\u001b[0m                                 Traceback (most recent call last)",
      "\u001b[1;32m<ipython-input-4-e4bfe96ba455>\u001b[0m in \u001b[0;36m<module>\u001b[1;34m()\u001b[0m\n\u001b[0;32m      1\u001b[0m \u001b[1;31m# Start by splitting the file into lowercase words.\u001b[0m\u001b[1;33m\u001b[0m\u001b[1;33m\u001b[0m\u001b[0m\n\u001b[1;32m----> 2\u001b[1;33m \u001b[0mwords\u001b[0m \u001b[1;33m=\u001b[0m \u001b[0mGeneral\u001b[0m\u001b[1;33m.\u001b[0m\u001b[0mlower\u001b[0m\u001b[1;33m(\u001b[0m\u001b[1;33m)\u001b[0m\u001b[1;33m.\u001b[0m\u001b[0msplit\u001b[0m\u001b[1;33m(\u001b[0m\u001b[1;33m)\u001b[0m\u001b[1;33m\u001b[0m\u001b[0m\n\u001b[0m\u001b[0;32m      3\u001b[0m \u001b[1;33m\u001b[0m\u001b[0m\n\u001b[0;32m      4\u001b[0m \u001b[1;31m# print (words)\u001b[0m\u001b[1;33m\u001b[0m\u001b[1;33m\u001b[0m\u001b[0m\n\u001b[0;32m      5\u001b[0m \u001b[1;33m\u001b[0m\u001b[0m\n",
      "\u001b[1;31mNameError\u001b[0m: name 'General' is not defined"
     ]
    }
   ],
   "source": [
    "# Start by splitting the file into lowercase words.\n",
    "words = General.lower().split()\n",
    "\n",
    "# print (words)\n",
    "\n",
    "# Get the set of unique words.\n",
    "uniques = []\n",
    "for word in words:\n",
    "  if word not in uniques:\n",
    "    uniques.append(word)\n",
    "\n",
    "counts = []\n",
    "for unique in uniques:\n",
    "  count = 0              # Initialize the count to zero.\n",
    "  for word in words:     # Iterate over the words.\n",
    "    if word == unique:   # Is this word equal to the current unique?\n",
    "      count += 1         # If so, increment the count\n",
    "  counts.append((count, unique))\n",
    "\n",
    "\n",
    "counts.sort()            # Sorting the list puts the lowest counts first.\n",
    "counts.reverse()         # Reverse it, putting the highest counts first.\n",
    "\n",
    "for i in range(min(30, len(counts))):\n",
    "  count, word = counts[i]\n",
    "  print('%s %d' % (word, count))\n",
    "    \n"
   ]
  },
  {
   "cell_type": "code",
   "execution_count": 60,
   "metadata": {},
   "outputs": [],
   "source": []
  },
  {
   "cell_type": "code",
   "execution_count": 10,
   "metadata": {},
   "outputs": [],
   "source": []
  },
  {
   "cell_type": "code",
   "execution_count": null,
   "metadata": {},
   "outputs": [],
   "source": []
  },
  {
   "cell_type": "code",
   "execution_count": null,
   "metadata": {},
   "outputs": [],
   "source": []
  }
 ],
 "metadata": {
  "kernelspec": {
   "display_name": "Python 3",
   "language": "python",
   "name": "python3"
  },
  "language_info": {
   "codemirror_mode": {
    "name": "ipython",
    "version": 3
   },
   "file_extension": ".py",
   "mimetype": "text/x-python",
   "name": "python",
   "nbconvert_exporter": "python",
   "pygments_lexer": "ipython3",
   "version": "3.6.5"
  }
 },
 "nbformat": 4,
 "nbformat_minor": 2
}
